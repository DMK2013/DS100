{
 "cells": [
  {
   "cell_type": "markdown",
   "metadata": {},
   "source": [
    "# Intro to Git\n",
    "*Authors: Henry Milner, Andrew Do.  Some of the material in this notebook is inspired by [lectures](https://www.youtube.com/watch?v=lqMyCPhKPr8) by Prof. George Necula in CS 169.*\n",
    "\n",
    "# Why git?\n",
    "Your first reason for this class (any likely many classes and projects to come): It's the only way to interact with other developers, because everyone uses it.\n",
    "\n",
    "\"Everyone?\"  Yes.  Github, the biggest host for public git repositories, has 20 million repositories.  There are probably many more private repositories.  (You can create either.)\n",
    "\n",
    "Better reasons:\n",
    "* **Work without fear.**  If you make a change that breaks something (or just wasn't a good idea), you can always go back.\n",
    "* **Work on multiple computers.**  Much simpler and less error-prone than emailing yourself files.\n",
    "* **Collaborate with other developers.** \n",
    "* **Maintain multiple versions.**\n",
    "\n",
    "However, git can be a little confusing.  Many confusions happen because people don't understand the fundamentals you'll learn today.  If you've got the basics, the impact of other confusions will be bounded, and you can probably figure out how to search for a solution."
   ]
  },
  {
   "cell_type": "markdown",
   "metadata": {},
   "source": [
    "# Cloning an existing repository\n",
    "We made a special repository for this section (it takes 5 seconds) here:\n",
    "\n",
    "    https://github.com/DS-100/git-intro\n",
    "\n",
    "We'll use a Jupyter notebook, but you can run any of these commands in a Bash shell.  Note that `cd` is a magic command in Jupyter that doesn't have a `!` in front of it.  `!cd` only works for the line you write it on.\n",
    "\n",
    "We'll check out the repo in the /tmp folder, which the OS will wipe when you reboot.  Obviously, don't do that if you want to keep the repo."
   ]
  },
  {
   "cell_type": "code",
   "execution_count": 42,
   "metadata": {
    "collapsed": false
   },
   "outputs": [],
   "source": [
    "cd /tmp"
   ]
  },
  {
   "cell_type": "code",
   "execution_count": 30,
   "metadata": {
    "collapsed": true
   },
   "outputs": [],
   "source": [
    "# Delete the repo if it happens to already exist:\n",
    "!rm -rf git-intro"
   ]
  },
  {
   "cell_type": "code",
   "execution_count": 31,
   "metadata": {
    "collapsed": false
   },
   "outputs": [],
   "source": [
    "# Create the repo\n",
    "!git clone https://github.com/DS-100/git-intro git-intro"
   ]
  },
  {
   "cell_type": "code",
   "execution_count": 44,
   "metadata": {
    "collapsed": false
   },
   "outputs": [],
   "source": [
    "!ls -lh | grep git-intro"
   ]
  },
  {
   "cell_type": "code",
   "execution_count": 45,
   "metadata": {
    "collapsed": false
   },
   "outputs": [],
   "source": [
    "cd git-intro"
   ]
  },
  {
   "cell_type": "markdown",
   "metadata": {},
   "source": [
    "# Looking at files in a repo\n",
    "A repository is just a directory.  Let's poke around."
   ]
  },
  {
   "cell_type": "code",
   "execution_count": 37,
   "metadata": {
    "collapsed": false
   },
   "outputs": [],
   "source": [
    "# What files are in the repo?\n",
    "!ls -lh"
   ]
  },
  {
   "cell_type": "code",
   "execution_count": 46,
   "metadata": {
    "collapsed": false
   },
   "outputs": [],
   "source": [
    "# What about hidden files?\n",
    "!ls -alh"
   ]
  },
  {
   "cell_type": "markdown",
   "metadata": {},
   "source": [
    "The special `.git` directory is where git stores all its magic.  If you delete it (or this whole directory), the repository won't be a repository any more."
   ]
  },
  {
   "cell_type": "code",
   "execution_count": 49,
   "metadata": {
    "collapsed": false
   },
   "outputs": [],
   "source": [
    "# What's the current status, according to git?\n",
    "!git status"
   ]
  },
  {
   "cell_type": "code",
   "execution_count": 50,
   "metadata": {
    "collapsed": false
   },
   "outputs": [],
   "source": [
    "# What's the history of the repo?\n",
    "!git log"
   ]
  },
  {
   "cell_type": "code",
   "execution_count": 51,
   "metadata": {
    "collapsed": false
   },
   "outputs": [],
   "source": [
    "# What does README.md look like currently?\n",
    "!cat README.md"
   ]
  },
  {
   "cell_type": "markdown",
   "metadata": {},
   "source": [
    "# Making changes: Our first commit\n",
    "Suppose we want to add a file.  You could create a Jupyter notebook or download an image.  For simplicity, we'll just add a text file."
   ]
  },
  {
   "cell_type": "code",
   "execution_count": 140,
   "metadata": {
    "collapsed": false
   },
   "outputs": [],
   "source": [
    "# We can use Python to compute the filename.\n",
    "# Then we can reference Python variables in\n",
    "# ! shell commands using {}, because Jupyter\n",
    "# is magic.\n",
    "import datetime\n",
    "our_id = datetime.datetime.now().microsecond\n",
    "filename = \"our_file_{:d}.txt\".format(our_id)\n",
    "filename"
   ]
  },
  {
   "cell_type": "code",
   "execution_count": 106,
   "metadata": {
    "collapsed": false
   },
   "outputs": [],
   "source": [
    "!echo \"The quick brown fox \\\n",
    "jumped over the lzy dog.\" > \"{filename}\"\n",
    "!ls"
   ]
  },
  {
   "cell_type": "markdown",
   "metadata": {},
   "source": [
    "Creating the file only changed the local filesystem.  We can go to the [repository page](https://github.com/DS-100/git-intro) on Github to verify that the file hasn't been added yet.  You probably wouldn't want your changes to be published immediately to the world!"
   ]
  },
  {
   "cell_type": "code",
   "execution_count": 107,
   "metadata": {
    "collapsed": true
   },
   "outputs": [],
   "source": [
    "!git add \"{filename}\""
   ]
  },
  {
   "cell_type": "markdown",
   "metadata": {},
   "source": [
    "If you check again, our file still hasn't been published to the world.  In git, you package together your new files and updates to old files, and then you create a new version called a \"commit.\"\n",
    "\n",
    "Git maintains a \"staging\" or \"index\" area for files that you've marked for committing with `git add`."
   ]
  },
  {
   "cell_type": "code",
   "execution_count": 108,
   "metadata": {
    "collapsed": false
   },
   "outputs": [],
   "source": [
    "!git status"
   ]
  },
  {
   "cell_type": "code",
   "execution_count": 109,
   "metadata": {
    "collapsed": false
   },
   "outputs": [],
   "source": [
    "!git commit -m 'Added our new file, \"{filename}\"'"
   ]
  },
  {
   "cell_type": "code",
   "execution_count": 110,
   "metadata": {
    "collapsed": false
   },
   "outputs": [],
   "source": [
    "!git status"
   ]
  },
  {
   "cell_type": "code",
   "execution_count": 111,
   "metadata": {
    "collapsed": false
   },
   "outputs": [],
   "source": [
    "!git log"
   ]
  },
  {
   "cell_type": "markdown",
   "metadata": {},
   "source": [
    "Now our local repository has this new commit in it.  Notice that the log shows the message we wrote when we made the commit.  It is very tempting to write something like \"stuff\" here.  But then it will be very hard to understand your history, and you'll lose some of the benefits of git.\n",
    "\n",
    "For the same reason, try to make each commit a self-contained idea: You fixed a particular bug, added a particular feature, etc.\n",
    "\n",
    "Our commit hasn't been published to other repositories yet, including the one on Github.  We can [check again](https://github.com/DS-100/git-intro) to verify that.\n",
    "\n",
    "To publish a commit we've created locally to another repository, we use `git push`.  Git remembers that we checked out from the Github repository, and by default it will push to that repository.  Just to be sure, let's find the name git has given to that repository, and pass that explicitly to `git push`."
   ]
  },
  {
   "cell_type": "code",
   "execution_count": 112,
   "metadata": {
    "collapsed": false
   },
   "outputs": [],
   "source": [
    "!git remote -v"
   ]
  },
  {
   "cell_type": "code",
   "execution_count": 113,
   "metadata": {
    "collapsed": false
   },
   "outputs": [],
   "source": [
    "!git help push"
   ]
  },
  {
   "cell_type": "code",
   "execution_count": 120,
   "metadata": {
    "collapsed": false
   },
   "outputs": [],
   "source": [
    "!git push origin"
   ]
  },
  {
   "cell_type": "markdown",
   "metadata": {},
   "source": [
    "Now our commit is finally [visible](https://github.com/DS-100/git-intro) on Github.  Even if we spill coffee on our laptop, our new state will be safely recorded in the remote repository."
   ]
  },
  {
   "cell_type": "markdown",
   "metadata": {},
   "source": [
    "# Going back\n",
    "Oops, we didn't want that file!  In fact, if you look at the history, people have been adding a bunch of silly files.  We don't want any of them.\n",
    "\n",
    "Once a commit is created, git basically never forgets about it or its contents (unless you try really hard).  When your local filesystem doesn't have any outstanding changes, it's easy to switch back to an older commit.\n",
    "\n",
    "We have previously given the name `first` to the first commit in the repo, which had basically nothing in it.  (We'll soon see how to assign names to commits.)"
   ]
  },
  {
   "cell_type": "code",
   "execution_count": 132,
   "metadata": {
    "collapsed": false
   },
   "outputs": [],
   "source": [
    "!git help branch"
   ]
  },
  {
   "cell_type": "code",
   "execution_count": 145,
   "metadata": {
    "collapsed": false
   },
   "outputs": [],
   "source": [
    "!git branch --list"
   ]
  },
  {
   "cell_type": "code",
   "execution_count": 146,
   "metadata": {
    "collapsed": true
   },
   "outputs": [],
   "source": [
    "# Let's make a new name for the first commit, \"going-back\",\n",
    "# with our ID in there so we don't conflict with other\n",
    "# sections.\n",
    "!git branch going-back-{our_id} first"
   ]
  },
  {
   "cell_type": "code",
   "execution_count": 147,
   "metadata": {
    "collapsed": false
   },
   "outputs": [],
   "source": [
    "!git branch --list"
   ]
  },
  {
   "cell_type": "code",
   "execution_count": 148,
   "metadata": {
    "collapsed": false
   },
   "outputs": [],
   "source": [
    "!git checkout going-back-{our_id}"
   ]
  },
  {
   "cell_type": "code",
   "execution_count": 149,
   "metadata": {
    "collapsed": false
   },
   "outputs": [],
   "source": [
    "!ls"
   ]
  },
  {
   "cell_type": "code",
   "execution_count": 150,
   "metadata": {
    "collapsed": false
   },
   "outputs": [],
   "source": [
    "!git status"
   ]
  },
  {
   "cell_type": "code",
   "execution_count": 162,
   "metadata": {
    "collapsed": false
   },
   "outputs": [],
   "source": [
    "!git log --graph --decorate first going-back-{our_id} master"
   ]
  },
  {
   "cell_type": "markdown",
   "metadata": {},
   "source": [
    "Note: we can always get back to the commit we made with:\n",
    "\n",
    "    git checkout master"
   ]
  },
  {
   "cell_type": "markdown",
   "metadata": {},
   "source": [
    "# Branches and commits\n",
    "Git informs us that we've switched to the `going-back` \"branch,\" and in the local filesystem, neither the file we created nor any other files, other than README.md, are there any more.  What do you think would happen if we made some changes and made a new commit now?\n",
    "\n",
    "- A. The previous commits would be overwritten.  The `master` branch would disappear.\n",
    "- B. The previous commits would be overwritten.  The `master` branch would now refer to our new commit.\n",
    "- C. A new commit would be created.  The `master` branch would still refer to our last commit.  The `first` branch would refer to the new commit.\n",
    "- D. A new commit would be created.  The `master` branch would still refer to our last commit.  The `first` branch would still refer to the first commit in the repository.\n",
    "- E. Git would ask us what to do, because it's not clear what we intended.\n",
    "- F. Something else?"
   ]
  },
  {
   "cell_type": "markdown",
   "metadata": {},
   "source": [
    "<br>\n",
    "<br>\n",
    "<br>\n",
    "<br>\n",
    "<br>\n",
    "<br>\n",
    "<br>\n",
    "<br>\n",
    "Let's find out."
   ]
  },
  {
   "cell_type": "code",
   "execution_count": 152,
   "metadata": {
    "collapsed": false
   },
   "outputs": [],
   "source": [
    "new_filename = \"our_second_file_{}.txt\".format(our_id)\n",
    "new_filename"
   ]
  },
  {
   "cell_type": "code",
   "execution_count": 153,
   "metadata": {
    "collapsed": false
   },
   "outputs": [],
   "source": [
    "!echo \"Text for our second file!\" > {new_filename}\n",
    "!ls"
   ]
  },
  {
   "cell_type": "code",
   "execution_count": 154,
   "metadata": {
    "collapsed": false
   },
   "outputs": [],
   "source": [
    "!git add {new_filename}\n",
    "!git commit -m'Adding our second file!'"
   ]
  },
  {
   "cell_type": "code",
   "execution_count": 157,
   "metadata": {
    "collapsed": false
   },
   "outputs": [],
   "source": [
    "!git status"
   ]
  },
  {
   "cell_type": "code",
   "execution_count": 161,
   "metadata": {
    "collapsed": false
   },
   "outputs": [],
   "source": [
    "!git log --graph --decorate first going-back-{our_id} master"
   ]
  },
  {
   "cell_type": "markdown",
   "metadata": {},
   "source": [
    "# How does committing work?\n",
    "Every commit is a snapshot of some files.  A commit can never be changed.  It has a unique ID assigned by git, like `20f97c1`.\n",
    "\n",
    "Humans can't work with IDs like that, so git lets us give names like `master` or `first` to commits, using `git branch <name> <commit ID>`.  These names are called \"branches\" or \"refs\" or \"tags.\"  They're just names.  Often `master` is used for the most up-to-date commit in a repository, but not always.\n",
    "\n",
    "At any point in time, your repository is pointing to a commit.  Except in unusual cases, that commit will have a name.  Git gives that name its own name: `HEAD`.  Remember: `HEAD` is a special kind of name.  It refers to other names rather than to a commit.\n",
    "\n",
    "<img src=\"before_commit.jpg\">\n",
    "\n",
    "When you commit:\n",
    "\n",
    "1. Git creates your new commit.\n",
    "2. To keep track of its lineage, git records that your new commit is a \"child\" of the current commit.  That's what the lines in that `git log` line are showing.\n",
    "3. Git updates whatever name `HEAD` points to (your \"current branch\").  Now that name refers to the new commit.\n",
    "\n",
    "<img src=\"after_commit.jpg\">\n",
    "\n",
    "Can you list all the pieces that make up the full state of your git repository?\n",
    "\n",
    "<br>\n",
    "<br>\n",
    "<br>\n",
    "<br>\n",
    "<br>\n",
    "<br>\n",
    "<br>\n",
    "<br>\n",
    "<br>\n",
    "<br>\n",
    "<br>\n",
    "<br>\n",
    "<br>\n",
    "<br>\n",
    "<br>\n",
    "<br>\n",
    "<br>\n",
    "<br>\n",
    "<br>\n",
    "\n",
    "1. All the commits with their IDs.\n",
    "2. All the pointers from commits to their parents (the previous commit they built on).\n",
    "3. All your \"refs,\" each pointing to a commit.\n",
    "4. The `HEAD`, which points to a ref.\n",
    "5. The \"working directory,\" which is all the actual files you see.\n",
    "6. The \"index\" or \"staging\" area, which is all the files you've added with `git add` but haven't committed yet.  (You can find out what's staged with `git status`.  The staging area is confusing, so use it sparingly.  Usually you should stage things and then immediately create a commit.)\n",
    "7. A list of \"remotes,\" which are other repositories your repository knows about.  Often this is just the repository you cloned.\n",
    "8. The last-known state of the remotes' refs.\n",
    "9. [...there are more, but these are the main ones.]"
   ]
  },
  {
   "cell_type": "markdown",
   "metadata": {},
   "source": [
    "# How does pushing work?\n",
    "In git, every repository is coequal.  The repository we cloned from Github looks exactly like ours, except it might contain different commits and names.\n",
    "\n",
    "Suppose you want to publish your changes."
   ]
  },
  {
   "cell_type": "code",
   "execution_count": 171,
   "metadata": {
    "collapsed": false
   },
   "outputs": [],
   "source": [
    "!git push origin going-back-{our_id}"
   ]
  },
  {
   "cell_type": "markdown",
   "metadata": {},
   "source": [
    "Here `origin` is the name (according to `git remote -v`) of the repository you want to push to.  If you omit a remote name, `origin` is also the default.  Normally that's what you want.\n",
    "\n",
    "`going-back-{our_id}` (whatever the value of `{our_id}`) is a branch in your repository.  If you omit a branch name here, your current branch (the branch `HEAD` refers to) is the default.\n",
    "\n",
    "What do you think git does?\n",
    "\n",
    "<br>\n",
    "<br>\n",
    "<br>\n",
    "<br>\n",
    "<br>\n",
    "<br>\n",
    "<br>\n",
    "<br>\n",
    "<br>\n",
    "<br>\n",
    "<br>\n",
    "<br>\n",
    "\n",
    "A few things happen:\n",
    "1. Git finds all the commits in `going-back-{our_id}`'s history - all of its ancestors.\n",
    "2. It sends all of those commits to `origin`, and they're added to that repository.  (If `origin` already has a bunch of them, of course those don't need to be sent.)\n",
    "3. It updates the branch named `going-back-{our_id}` in `origin` to point to the same commit yours does.\n",
    "\n",
    "However, suppose someone else has updated `going-back-{our_id}` since you last got it?\n",
    "\n",
    "     456 (your going-back-{our_id})\n",
    "       \\   345 (origin's going-back-{our_id}, pushed by someone else)\n",
    "        \\   /\n",
    "         \\ /\n",
    "         234 (going-back-{our_id} when you last pulled it from origin)\n",
    "          |\n",
    "         123\n",
    "\n",
    "How do you think git handles that?\n",
    "\n",
    "<br>\n",
    "<br>\n",
    "<br>\n",
    "<br>\n",
    "<br>\n",
    "<br>\n",
    "<br>\n",
    "<br>\n",
    "<br>\n",
    "<br>\n",
    "<br>\n",
    "<br>\n",
    "<br>\n",
    "<br>\n",
    "\n",
    "The answer may surprise you: git gives up and tells you you're not allowed to push.  Instead, you have to *pull* the remote commits and *merge* them in your repository, then push after merging.\n",
    "\n",
    "    error: failed to push some refs to 'https://github.com/DS-100/git-intro.git'\n",
    "    hint: Updates were rejected because the remote contains work that you do\n",
    "    hint: not have locally. This is usually caused by another repository pushing\n",
    "    hint: to the same ref. You may want to first integrate the remote changes\n",
    "    hint: (e.g., 'git pull ...') before pushing again.\n",
    "    hint: See the 'Note about fast-forwards' in 'git push --help' for details.\n",
    "\n",
    "We'll go over merging next, but the end result after merging will look like this:\n",
    "\n",
    "     567 (your going-back-{our_id})\n",
    "      |  \\\n",
    "      |   \\\n",
    "      |    \\\n",
    "     456    \\\n",
    "       \\   345 (origin's going-back-{our_id}, pushed by someone else)\n",
    "        \\   /\n",
    "         \\ /\n",
    "         234 (going-back-{our_id} when you last pulled it from origin)\n",
    "          |\n",
    "         123\n",
    "\n",
    "Then `git push origin going-back-{our_id}` would succeed, since there are now no conflicts.  We're updating `going-back-{our_id}` to a commit that's a descendant of the current commit `going-back-{our_id}` names in `origin`.\n",
    "\n",
    "So it remains to see how to accomplish a merge.  We need to start with pulling updates from other repositories."
   ]
  },
  {
   "cell_type": "markdown",
   "metadata": {},
   "source": [
    "# How does pulling work?\n",
    "Suppose someone else pushes a commit to the remote repository.  We can simulate that with our own second repository:"
   ]
  },
  {
   "cell_type": "code",
   "execution_count": 165,
   "metadata": {
    "collapsed": false
   },
   "outputs": [],
   "source": [
    "cd /tmp"
   ]
  },
  {
   "cell_type": "code",
   "execution_count": 166,
   "metadata": {
    "collapsed": false
   },
   "outputs": [],
   "source": [
    "!git clone https://github.com/DS-100/git-intro git-intro-2"
   ]
  },
  {
   "cell_type": "code",
   "execution_count": 172,
   "metadata": {
    "collapsed": false
   },
   "outputs": [],
   "source": [
    "cd /tmp/git-intro-2"
   ]
  },
  {
   "cell_type": "code",
   "execution_count": 175,
   "metadata": {
    "collapsed": false
   },
   "outputs": [],
   "source": [
    "!git checkout going-back-{our_id}"
   ]
  },
  {
   "cell_type": "code",
   "execution_count": 176,
   "metadata": {
    "collapsed": false
   },
   "outputs": [],
   "source": [
    "third_filename = \"our_third_file_{}.txt\".format(our_id)\n",
    "third_filename"
   ]
  },
  {
   "cell_type": "code",
   "execution_count": 177,
   "metadata": {
    "collapsed": false
   },
   "outputs": [],
   "source": [
    "!echo \"Someone else added this third file!\" > {third_filename}\n",
    "!git add {third_filename}\n",
    "!git commit -m\"Adding a third file!\"\n",
    "!git push"
   ]
  },
  {
   "cell_type": "markdown",
   "metadata": {},
   "source": [
    "Now we go back to our original repo."
   ]
  },
  {
   "cell_type": "code",
   "execution_count": 178,
   "metadata": {
    "collapsed": false
   },
   "outputs": [],
   "source": [
    "cd /tmp/git-intro"
   ]
  },
  {
   "cell_type": "markdown",
   "metadata": {},
   "source": [
    "You might just want the update.  Or maybe you want to push your own commit to the same branch, and your `git push` failed.\n",
    "\n",
    "Git has a command called `pull` that you could use.  But it's complicated, and it's easier to break it down into two steps: fetching and merging.\n",
    "\n",
    "Since `git` commits are never destroyed, it's always safe to *fetch* commits from another repository.  (Refs can be changed, so that's not true for refs.  That's the source of the problem with our `push` before!)"
   ]
  },
  {
   "cell_type": "code",
   "execution_count": 164,
   "metadata": {
    "collapsed": false
   },
   "outputs": [],
   "source": [
    "!git help fetch"
   ]
  },
  {
   "cell_type": "code",
   "execution_count": null,
   "metadata": {
    "collapsed": true
   },
   "outputs": [],
   "source": [
    "!git fetch origin"
   ]
  },
  {
   "cell_type": "code",
   "execution_count": 184,
   "metadata": {
    "collapsed": false
   },
   "outputs": [],
   "source": [
    "!git log --graph --decorate going-back-{our_id} origin/going-back-{our_id}"
   ]
  },
  {
   "cell_type": "markdown",
   "metadata": {},
   "source": [
    "Now we need to update our ref to the newer commit.  In this case, it's easy, because we didn't have any further commits.  Git calls that a \"fast-forward\" merge."
   ]
  },
  {
   "cell_type": "code",
   "execution_count": 191,
   "metadata": {
    "collapsed": false
   },
   "outputs": [],
   "source": [
    "!git merge origin/going-back-{our_id} --ff-only"
   ]
  },
  {
   "cell_type": "code",
   "execution_count": 192,
   "metadata": {
    "collapsed": false
   },
   "outputs": [],
   "source": [
    "!git log --graph --decorate"
   ]
  },
  {
   "cell_type": "markdown",
   "metadata": {},
   "source": [
    "As a shortcut, you can do fetch and fast-forward merge with a single command:\n",
    "\n",
    "    git pull origin/going-back-{our_id} --ff-only"
   ]
  },
  {
   "cell_type": "markdown",
   "metadata": {},
   "source": [
    "# What if there's a nontrivial merge to do?\n",
    "In this class, you have three repositories:\n",
    "\n",
    "- The class Github repository [`ds100`](https://github.com/DS-100/sp17-materials), which contains blank copies of assignments\n",
    "- The repository that lives on your own computer, where you work on your assignments\n",
    "- Your Github repository `origin`, where you submit your assignments\n",
    "\n",
    "`ds100` will be updated regularly with commits that add new assignments.  You'll never push to `ds100`.  But you will pull from it regularly to get the new assignments.\n",
    "\n",
    "When you pull from `ds100`, you don't want to just use the latest commit from that repo.  Then you'd be starting from scratch, without all your work on previous assignments.\n",
    "\n",
    "Instead, you want to merge the `ds100` updates so that you get the new assignments but don't clobber your own work.\n",
    "\n",
    "In the git log, after a few assignments, this will look something like this:\n",
    "\n",
    "    (ds100/master)              (master on local repo)\n",
    "         ... ---------------------------efg (merged with 345 to get hw2)\n",
    "          | /                            |\n",
    "         345 (hw2)                      def (worked on lab2)\n",
    "          |                              |\n",
    "          |  ---------------------------cde (merged with 234 to get lab2)\n",
    "          | /                            |\n",
    "         234 (lab2)                     bcd (finishing touches on hw1)\n",
    "          |                              |\n",
    "          |  ---------------------------abc (your work on hw1)\n",
    "          | /          ^ not a merge\n",
    "         123 (hw1)\n",
    "\n",
    "Consider the first merge only.  The current commit is `bcd`, and you want to get lab 2.  From what you know so far, how should you merge?\n",
    "\n",
    "<br>\n",
    "<br>\n",
    "<br>\n",
    "<br>\n",
    "<br>\n",
    "<br>\n",
    "<br>\n",
    "<br>\n",
    "<br>\n",
    "<br>\n",
    "<br>\n",
    "<br>\n",
    "<br>\n",
    "<br>\n",
    "<br>\n",
    "<br>\n",
    "<br>\n",
    "<br>\n",
    "<br>\n",
    "\n",
    "*Answer:* Assuming we're on the `master` branch in our repo, and there are no uncommitted changes to the working files:\n",
    "\n",
    "    !git fetch ds100\n",
    "    !git merge ds100/master\n",
    "\n",
    "That doesn't finish things for us, though.  How will the merge work?  How will git reconcile your changes to the `hw1` files with the addition of `lab2` files?\n",
    "\n",
    "Git tries to intelligently include all the changes introduced in the two merged branches since their last common ancestor.  In this case, the changes are independent - one branch introduced new files in the `lab2` directory, and the other edited files in the `hw1` directory.  So git will just do it.\n",
    "\n",
    "Git assumes that changes introduced in separate files, or in separate lines of the same file, can be applied together.  If two branches change the same line of the same file, it will give up and ask you to reconcile the changes.  You'll then need to edit the file and follow the instructions to mark it as fixed.  We won't go over an example of that today.\n",
    "\n",
    "Note that sometimes git's assumption about independence is not true.  For example, suppose you are working on a project and you create a new code file A that imports code from another file `B`.  Your coworker deletes file `B`.  Git will merrily apply both changes, but your code in file `A` won't work any more.  So you need to apply human judgment when merging.  If you write informative commit messages, it's much easier to find such problems.\n",
    "\n",
    "### A shortcut to pull in this class\n",
    "The instructions on the course website tell you to get changes from `ds100` with this command:\n",
    "\n",
    "    git pull -s recursive -X ours --no-edit ds100 master\n",
    "\n",
    "What does this do?  It's basically what we just went through, with some extra options that let you avoid dealing with merges:\n",
    "- `git pull ds100 master`: Pull from ds100, updating the `master` branch.  Equivalent to `git fetch ds100; git merge ds100/master` as seen above.\n",
    "- `-s recursive -X ours`: If git finds that you and the `ds100` repo have made changes to the same line in a file, always take your changes and delete the `ds100` repo changes.  It will do this instead of asking you to reconcile the changes.\n",
    "- `--no-edit`: Normally, git will ask you to create a commit message to describe the merge commit.  This option generates a default message for you."
   ]
  },
  {
   "cell_type": "markdown",
   "metadata": {},
   "source": [
    "# Miscellaneous useful tips and commands\n",
    "- Think before you run commands like `git merge` or `git checkout` that might update your current branch.  If you have outstanding uncommitted changes, it can be complicated to keep them intact.  Generally you should commit your changes before running such commands.\n",
    "- `git diff`: See all changes in your working directory versus the most recent commit.\n",
    "- `git diff <commit_or_ref> <other_commit_or_ref>`: See all the changes between two commits.\n",
    "- `git add -u`: Add to the index (in preparation for a commit) all files that have been changed.\n",
    "- `git add -A`: Add to the index (in preparation for a commit) all files.\n",
    "- `git rm <file>`: Delete a file.  This change happens in the index, so it will show up in your next commit.\n",
    "- `git mv <file> <new_name>`: Rename a file.  Again, this change happens in the index, so it will show up in your next commit.\n",
    "- `git checkout -- <file>`: Reset a file to its state in the current commit, eliminating changes in the working directory.\n",
    "- `git rm --cached <file>`: Unstage a staged change to a file.  (Useful if you `git add` a file you didn't mean to add.)  Doesn't delete the file.\n",
    "- `git checkout -b <new_branch_name>`: Create a new branch at the current commit and check it out, making `HEAD` point to it."
   ]
  }
 ],
 "metadata": {
  "anaconda-cloud": {},
  "kernelspec": {
   "display_name": "Python [Root]",
   "language": "python",
   "name": "Python [Root]"
  },
  "language_info": {
   "codemirror_mode": {
    "name": "ipython",
    "version": 3
   },
   "file_extension": ".py",
   "mimetype": "text/x-python",
   "name": "python",
   "nbconvert_exporter": "python",
   "pygments_lexer": "ipython3",
   "version": "3.5.2"
  }
 },
 "nbformat": 4,
 "nbformat_minor": 0
}
